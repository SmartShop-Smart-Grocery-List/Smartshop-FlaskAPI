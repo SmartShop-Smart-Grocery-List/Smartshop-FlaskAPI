{
 "cells": [
  {
   "cell_type": "code",
   "execution_count": 1,
   "id": "b0c3b22a-9f58-4dd0-9ed1-a244a9906715",
   "metadata": {},
   "outputs": [],
   "source": [
    "import numpy as np\n",
    "import matplotlib.pyplot as plt\n",
    "import pandas as pd\n",
    "import itertools\n",
    "import ast\n",
    "import pickle\n",
    "from surprise import Dataset, Reader, KNNWithMeans, KNNWithZScore, SVD, SVDpp, SlopeOne, NMF, CoClustering, KNNBaseline\n",
    "from surprise.model_selection import GridSearchCV, cross_validate"
   ]
  },
  {
   "cell_type": "code",
   "execution_count": 2,
   "id": "56cf4198-cc44-4d3a-93bd-a3f878896946",
   "metadata": {},
   "outputs": [],
   "source": [
    "exercise = pd.read_csv(\"Data/Exercises.csv\")"
   ]
  },
  {
   "cell_type": "code",
   "execution_count": 3,
   "id": "67e28fca-6e35-4446-85ee-eeafc97080b2",
   "metadata": {},
   "outputs": [
    {
     "data": {
      "text/html": [
       "<div>\n",
       "<style scoped>\n",
       "    .dataframe tbody tr th:only-of-type {\n",
       "        vertical-align: middle;\n",
       "    }\n",
       "\n",
       "    .dataframe tbody tr th {\n",
       "        vertical-align: top;\n",
       "    }\n",
       "\n",
       "    .dataframe thead th {\n",
       "        text-align: right;\n",
       "    }\n",
       "</style>\n",
       "<table border=\"1\" class=\"dataframe\">\n",
       "  <thead>\n",
       "    <tr style=\"text-align: right;\">\n",
       "      <th></th>\n",
       "      <th>id</th>\n",
       "      <th>Title</th>\n",
       "      <th>Desc</th>\n",
       "      <th>Type</th>\n",
       "      <th>BodyPart</th>\n",
       "      <th>Equipment</th>\n",
       "      <th>Level</th>\n",
       "      <th>Rating</th>\n",
       "    </tr>\n",
       "  </thead>\n",
       "  <tbody>\n",
       "    <tr>\n",
       "      <th>0</th>\n",
       "      <td>1</td>\n",
       "      <td>Partner plank band row</td>\n",
       "      <td>The partner plank band row is an abdominal exe...</td>\n",
       "      <td>Strength</td>\n",
       "      <td>Abdominals</td>\n",
       "      <td>Bands</td>\n",
       "      <td>Intermediate</td>\n",
       "      <td>6.039267</td>\n",
       "    </tr>\n",
       "    <tr>\n",
       "      <th>1</th>\n",
       "      <td>2</td>\n",
       "      <td>Barbell roll-out</td>\n",
       "      <td>The barbell roll-out is an abdominal exercise ...</td>\n",
       "      <td>Strength</td>\n",
       "      <td>Abdominals</td>\n",
       "      <td>Barbell</td>\n",
       "      <td>Intermediate</td>\n",
       "      <td>6.039267</td>\n",
       "    </tr>\n",
       "    <tr>\n",
       "      <th>2</th>\n",
       "      <td>3</td>\n",
       "      <td>Barbell Ab Rollout - On Knees</td>\n",
       "      <td>The barbell roll-out is an abdominal exercise ...</td>\n",
       "      <td>Strength</td>\n",
       "      <td>Abdominals</td>\n",
       "      <td>Barbell</td>\n",
       "      <td>Intermediate</td>\n",
       "      <td>6.884721</td>\n",
       "    </tr>\n",
       "    <tr>\n",
       "      <th>3</th>\n",
       "      <td>4</td>\n",
       "      <td>Decline bar press sit-up</td>\n",
       "      <td>The decline bar press sit-up is a weighted cor...</td>\n",
       "      <td>Strength</td>\n",
       "      <td>Abdominals</td>\n",
       "      <td>Barbell</td>\n",
       "      <td>Intermediate</td>\n",
       "      <td>6.884721</td>\n",
       "    </tr>\n",
       "    <tr>\n",
       "      <th>4</th>\n",
       "      <td>5</td>\n",
       "      <td>Bench barbell roll-out</td>\n",
       "      <td>The bench barbell roll-out is a challenging ex...</td>\n",
       "      <td>Strength</td>\n",
       "      <td>Abdominals</td>\n",
       "      <td>Barbell</td>\n",
       "      <td>Beginner</td>\n",
       "      <td>6.821085</td>\n",
       "    </tr>\n",
       "  </tbody>\n",
       "</table>\n",
       "</div>"
      ],
      "text/plain": [
       "   id                          Title  \\\n",
       "0   1         Partner plank band row   \n",
       "1   2               Barbell roll-out   \n",
       "2   3  Barbell Ab Rollout - On Knees   \n",
       "3   4       Decline bar press sit-up   \n",
       "4   5         Bench barbell roll-out   \n",
       "\n",
       "                                                Desc      Type    BodyPart  \\\n",
       "0  The partner plank band row is an abdominal exe...  Strength  Abdominals   \n",
       "1  The barbell roll-out is an abdominal exercise ...  Strength  Abdominals   \n",
       "2  The barbell roll-out is an abdominal exercise ...  Strength  Abdominals   \n",
       "3  The decline bar press sit-up is a weighted cor...  Strength  Abdominals   \n",
       "4  The bench barbell roll-out is a challenging ex...  Strength  Abdominals   \n",
       "\n",
       "  Equipment         Level    Rating  \n",
       "0     Bands  Intermediate  6.039267  \n",
       "1   Barbell  Intermediate  6.039267  \n",
       "2   Barbell  Intermediate  6.884721  \n",
       "3   Barbell  Intermediate  6.884721  \n",
       "4   Barbell      Beginner  6.821085  "
      ]
     },
     "execution_count": 3,
     "metadata": {},
     "output_type": "execute_result"
    }
   ],
   "source": [
    "exercise.head()"
   ]
  },
  {
   "cell_type": "code",
   "execution_count": 4,
   "id": "3fec01b6-a78d-4edb-8cbe-7b4717baedaa",
   "metadata": {},
   "outputs": [
    {
     "data": {
      "text/html": [
       "<div>\n",
       "<style scoped>\n",
       "    .dataframe tbody tr th:only-of-type {\n",
       "        vertical-align: middle;\n",
       "    }\n",
       "\n",
       "    .dataframe tbody tr th {\n",
       "        vertical-align: top;\n",
       "    }\n",
       "\n",
       "    .dataframe thead th {\n",
       "        text-align: right;\n",
       "    }\n",
       "</style>\n",
       "<table border=\"1\" class=\"dataframe\">\n",
       "  <thead>\n",
       "    <tr style=\"text-align: right;\">\n",
       "      <th></th>\n",
       "      <th>id</th>\n",
       "      <th>Rating</th>\n",
       "    </tr>\n",
       "  </thead>\n",
       "  <tbody>\n",
       "    <tr>\n",
       "      <th>count</th>\n",
       "      <td>595.000000</td>\n",
       "      <td>595.000000</td>\n",
       "    </tr>\n",
       "    <tr>\n",
       "      <th>mean</th>\n",
       "      <td>298.000000</td>\n",
       "      <td>6.115508</td>\n",
       "    </tr>\n",
       "    <tr>\n",
       "      <th>std</th>\n",
       "      <td>171.905982</td>\n",
       "      <td>0.229450</td>\n",
       "    </tr>\n",
       "    <tr>\n",
       "      <th>min</th>\n",
       "      <td>1.000000</td>\n",
       "      <td>6.039267</td>\n",
       "    </tr>\n",
       "    <tr>\n",
       "      <th>25%</th>\n",
       "      <td>149.500000</td>\n",
       "      <td>6.039267</td>\n",
       "    </tr>\n",
       "    <tr>\n",
       "      <th>50%</th>\n",
       "      <td>298.000000</td>\n",
       "      <td>6.039267</td>\n",
       "    </tr>\n",
       "    <tr>\n",
       "      <th>75%</th>\n",
       "      <td>446.500000</td>\n",
       "      <td>6.039267</td>\n",
       "    </tr>\n",
       "    <tr>\n",
       "      <th>max</th>\n",
       "      <td>595.000000</td>\n",
       "      <td>6.893812</td>\n",
       "    </tr>\n",
       "  </tbody>\n",
       "</table>\n",
       "</div>"
      ],
      "text/plain": [
       "               id      Rating\n",
       "count  595.000000  595.000000\n",
       "mean   298.000000    6.115508\n",
       "std    171.905982    0.229450\n",
       "min      1.000000    6.039267\n",
       "25%    149.500000    6.039267\n",
       "50%    298.000000    6.039267\n",
       "75%    446.500000    6.039267\n",
       "max    595.000000    6.893812"
      ]
     },
     "execution_count": 4,
     "metadata": {},
     "output_type": "execute_result"
    }
   ],
   "source": [
    "exercise.describe()"
   ]
  },
  {
   "cell_type": "code",
   "execution_count": 5,
   "id": "93e5622c-c798-4872-8949-ec382f6be51b",
   "metadata": {},
   "outputs": [],
   "source": [
    "unique_type = exercise['Type'].unique()"
   ]
  },
  {
   "cell_type": "code",
   "execution_count": 6,
   "id": "a3c827e1-ff75-41a3-ab05-28e7b2343c0c",
   "metadata": {},
   "outputs": [
    {
     "name": "stdout",
     "output_type": "stream",
     "text": [
      "7\n",
      "['Strength' 'Plyometrics' 'Stretching' 'Powerlifting' 'Strongman' 'Cardio'\n",
      " 'Olympic Weightlifting']\n"
     ]
    }
   ],
   "source": [
    "print(len(unique_type))\n",
    "print(unique_type)"
   ]
  },
  {
   "cell_type": "code",
   "execution_count": 7,
   "id": "165527f6-e335-42f4-b9a0-58dd62abc090",
   "metadata": {},
   "outputs": [],
   "source": [
    "unique_bodypart = exercise['BodyPart'].unique()"
   ]
  },
  {
   "cell_type": "code",
   "execution_count": 8,
   "id": "99755cd4-21ed-4afb-8c04-b66e21ae9bf5",
   "metadata": {},
   "outputs": [
    {
     "name": "stdout",
     "output_type": "stream",
     "text": [
      "16\n",
      "['Abdominals' 'Abductors' 'Adductors' 'Biceps' 'Calves' 'Chest' 'Forearms'\n",
      " 'Glutes' 'Hamstrings' 'Lats' 'Lower Back' 'Middle Back' 'Traps'\n",
      " 'Quadriceps' 'Shoulders' 'Triceps']\n"
     ]
    }
   ],
   "source": [
    "print(len(unique_bodypart))\n",
    "print(unique_bodypart)"
   ]
  },
  {
   "cell_type": "code",
   "execution_count": 9,
   "id": "df251318-96b5-4782-b0d1-4cc5c6ac0374",
   "metadata": {},
   "outputs": [],
   "source": [
    "unique_equipment = exercise['Equipment'].unique()"
   ]
  },
  {
   "cell_type": "code",
   "execution_count": 10,
   "id": "c235c1e7-7b2b-4e8f-bc7b-137285554ac8",
   "metadata": {},
   "outputs": [
    {
     "name": "stdout",
     "output_type": "stream",
     "text": [
      "13\n",
      "['Bands' 'Barbell' 'Kettlebells' 'Dumbbell' 'Other' 'Cable' 'Machine'\n",
      " 'Body Only' 'Medicine Ball' nan 'Exercise Ball' 'Foam Roll'\n",
      " 'E-Z Curl Bar']\n"
     ]
    }
   ],
   "source": [
    "print(len(unique_equipment))\n",
    "print(unique_equipment)"
   ]
  },
  {
   "cell_type": "code",
   "execution_count": 48,
   "id": "bcc7a523-46c1-4f0a-8802-1558424d3323",
   "metadata": {},
   "outputs": [],
   "source": [
    "exercise = exercise.dropna(subset=['Equipment'])"
   ]
  },
  {
   "cell_type": "code",
   "execution_count": 50,
   "id": "6002d0f2-559e-4697-8539-5bf3e9ad57c3",
   "metadata": {},
   "outputs": [
    {
     "name": "stdout",
     "output_type": "stream",
     "text": [
      "12\n",
      "['Bands' 'Barbell' 'Kettlebells' 'Dumbbell' 'Other' 'Cable' 'Machine'\n",
      " 'Body Only' 'Medicine Ball' 'Exercise Ball' 'Foam Roll' 'E-Z Curl Bar']\n"
     ]
    }
   ],
   "source": [
    "unique_equipment = exercise['Equipment'].unique()\n",
    "print(len(unique_equipment))\n",
    "print(unique_equipment)"
   ]
  },
  {
   "cell_type": "code",
   "execution_count": 11,
   "id": "5ae6e318-a9c2-441f-aa22-132ac96698ec",
   "metadata": {},
   "outputs": [],
   "source": [
    "unique_level = exercise['Level'].unique()"
   ]
  },
  {
   "cell_type": "code",
   "execution_count": 12,
   "id": "bf5a9b11-d609-40a5-a238-293532b27d2a",
   "metadata": {},
   "outputs": [
    {
     "name": "stdout",
     "output_type": "stream",
     "text": [
      "3\n",
      "['Intermediate' 'Beginner' 'Expert']\n"
     ]
    }
   ],
   "source": [
    "print(len(unique_level))\n",
    "print(unique_level)"
   ]
  },
  {
   "cell_type": "code",
   "execution_count": 42,
   "id": "5575be0c-6d85-4724-8e7f-4d08a58a77df",
   "metadata": {},
   "outputs": [],
   "source": [
    "def getExerciseWithConfiguration(exercises, user_id, user_ratings_count, colab_filter=None, type=None, body_part=None, equipment=None, level=None):\n",
    "    conditions = []\n",
    "    if not (type is None):\n",
    "        conditions.append(f\"Type == '{type}'\")\n",
    "    if not (body_part is None):\n",
    "        conditions.append(f\"BodyPart == '{body_part}'\")\n",
    "    if not (equipment is None):\n",
    "        conditions.append(f\"Equipment == '{equipment}'\")\n",
    "    if not (level is None):\n",
    "        conditions.append(f\"Level == '{level}'\")\n",
    "\n",
    "    query_string = \" and \".join(conditions)\n",
    "\n",
    "    if query_string:\n",
    "        return exercises.query(query_string).sort_values(by='Rating', ascending=False)\n",
    "    else:\n",
    "        return exercises"
   ]
  },
  {
   "cell_type": "code",
   "execution_count": 43,
   "id": "ed62ece9-6dd4-477a-9600-75dbd4b0c903",
   "metadata": {},
   "outputs": [],
   "source": [
    "results = getExerciseWithConfiguration(exercise, 0, 0, type='Cardio', level='Intermediate')"
   ]
  },
  {
   "cell_type": "code",
   "execution_count": 47,
   "id": "89b93e9e-f808-4353-9c5a-8e792c89a79d",
   "metadata": {},
   "outputs": [
    {
     "data": {
      "text/html": [
       "<div>\n",
       "<style scoped>\n",
       "    .dataframe tbody tr th:only-of-type {\n",
       "        vertical-align: middle;\n",
       "    }\n",
       "\n",
       "    .dataframe tbody tr th {\n",
       "        vertical-align: top;\n",
       "    }\n",
       "\n",
       "    .dataframe thead th {\n",
       "        text-align: right;\n",
       "    }\n",
       "</style>\n",
       "<table border=\"1\" class=\"dataframe\">\n",
       "  <thead>\n",
       "    <tr style=\"text-align: right;\">\n",
       "      <th></th>\n",
       "      <th>id</th>\n",
       "      <th>Title</th>\n",
       "      <th>Desc</th>\n",
       "      <th>Type</th>\n",
       "      <th>BodyPart</th>\n",
       "      <th>Equipment</th>\n",
       "      <th>Level</th>\n",
       "      <th>Rating</th>\n",
       "    </tr>\n",
       "  </thead>\n",
       "  <tbody>\n",
       "    <tr>\n",
       "      <th>82</th>\n",
       "      <td>83</td>\n",
       "      <td>Decline oblique crunch</td>\n",
       "      <td>The decline oblique crunch is a popular bodywe...</td>\n",
       "      <td>Strength</td>\n",
       "      <td>Abdominals</td>\n",
       "      <td>NaN</td>\n",
       "      <td>Intermediate</td>\n",
       "      <td>6.039267</td>\n",
       "    </tr>\n",
       "    <tr>\n",
       "      <th>268</th>\n",
       "      <td>269</td>\n",
       "      <td>Glute ham raise-</td>\n",
       "      <td>The glute ham raise is an exercise targeting t...</td>\n",
       "      <td>Strength</td>\n",
       "      <td>Hamstrings</td>\n",
       "      <td>NaN</td>\n",
       "      <td>Beginner</td>\n",
       "      <td>6.039267</td>\n",
       "    </tr>\n",
       "    <tr>\n",
       "      <th>269</th>\n",
       "      <td>270</td>\n",
       "      <td>Lying hamstring stretch with band</td>\n",
       "      <td>The lying hamstring stretch with band is a sim...</td>\n",
       "      <td>Stretching</td>\n",
       "      <td>Hamstrings</td>\n",
       "      <td>NaN</td>\n",
       "      <td>Beginner</td>\n",
       "      <td>6.039267</td>\n",
       "    </tr>\n",
       "    <tr>\n",
       "      <th>270</th>\n",
       "      <td>271</td>\n",
       "      <td>Alternating lunge jump</td>\n",
       "      <td>The alternating lunge jump is an explosive bod...</td>\n",
       "      <td>Stretching</td>\n",
       "      <td>Hamstrings</td>\n",
       "      <td>NaN</td>\n",
       "      <td>Beginner</td>\n",
       "      <td>6.039267</td>\n",
       "    </tr>\n",
       "    <tr>\n",
       "      <th>466</th>\n",
       "      <td>467</td>\n",
       "      <td>Dumbbell lateral hop to sprint</td>\n",
       "      <td>The dumbbell lateral hop to sprint is a multi-...</td>\n",
       "      <td>Plyometrics</td>\n",
       "      <td>Quadriceps</td>\n",
       "      <td>NaN</td>\n",
       "      <td>Intermediate</td>\n",
       "      <td>6.039267</td>\n",
       "    </tr>\n",
       "    <tr>\n",
       "      <th>467</th>\n",
       "      <td>468</td>\n",
       "      <td>Smith machine lunge sprint</td>\n",
       "      <td>The Smith machine lunge sprint is a lower-body...</td>\n",
       "      <td>Strength</td>\n",
       "      <td>Quadriceps</td>\n",
       "      <td>NaN</td>\n",
       "      <td>Intermediate</td>\n",
       "      <td>6.039267</td>\n",
       "    </tr>\n",
       "  </tbody>\n",
       "</table>\n",
       "</div>"
      ],
      "text/plain": [
       "      id                              Title  \\\n",
       "82    83             Decline oblique crunch   \n",
       "268  269                   Glute ham raise-   \n",
       "269  270  Lying hamstring stretch with band   \n",
       "270  271             Alternating lunge jump   \n",
       "466  467     Dumbbell lateral hop to sprint   \n",
       "467  468         Smith machine lunge sprint   \n",
       "\n",
       "                                                  Desc         Type  \\\n",
       "82   The decline oblique crunch is a popular bodywe...     Strength   \n",
       "268  The glute ham raise is an exercise targeting t...     Strength   \n",
       "269  The lying hamstring stretch with band is a sim...   Stretching   \n",
       "270  The alternating lunge jump is an explosive bod...   Stretching   \n",
       "466  The dumbbell lateral hop to sprint is a multi-...  Plyometrics   \n",
       "467  The Smith machine lunge sprint is a lower-body...     Strength   \n",
       "\n",
       "       BodyPart Equipment         Level    Rating  \n",
       "82   Abdominals       NaN  Intermediate  6.039267  \n",
       "268  Hamstrings       NaN      Beginner  6.039267  \n",
       "269  Hamstrings       NaN      Beginner  6.039267  \n",
       "270  Hamstrings       NaN      Beginner  6.039267  \n",
       "466  Quadriceps       NaN  Intermediate  6.039267  \n",
       "467  Quadriceps       NaN  Intermediate  6.039267  "
      ]
     },
     "execution_count": 47,
     "metadata": {},
     "output_type": "execute_result"
    }
   ],
   "source": [
    "exercise[exercise.isna().any(axis=1)][:20]"
   ]
  },
  {
   "cell_type": "code",
   "execution_count": 44,
   "id": "bb64a281-7376-45c0-83bf-2fce6d7a23d1",
   "metadata": {},
   "outputs": [
    {
     "name": "stdout",
     "output_type": "stream",
     "text": [
      "14\n"
     ]
    },
    {
     "data": {
      "text/html": [
       "<div>\n",
       "<style scoped>\n",
       "    .dataframe tbody tr th:only-of-type {\n",
       "        vertical-align: middle;\n",
       "    }\n",
       "\n",
       "    .dataframe tbody tr th {\n",
       "        vertical-align: top;\n",
       "    }\n",
       "\n",
       "    .dataframe thead th {\n",
       "        text-align: right;\n",
       "    }\n",
       "</style>\n",
       "<table border=\"1\" class=\"dataframe\">\n",
       "  <thead>\n",
       "    <tr style=\"text-align: right;\">\n",
       "      <th></th>\n",
       "      <th>id</th>\n",
       "      <th>Title</th>\n",
       "      <th>Desc</th>\n",
       "      <th>Type</th>\n",
       "      <th>BodyPart</th>\n",
       "      <th>Equipment</th>\n",
       "      <th>Level</th>\n",
       "      <th>Rating</th>\n",
       "    </tr>\n",
       "  </thead>\n",
       "  <tbody>\n",
       "    <tr>\n",
       "      <th>333</th>\n",
       "      <td>334</td>\n",
       "      <td>Rower</td>\n",
       "      <td>The rower is a popular gym machine that is ser...</td>\n",
       "      <td>Cardio</td>\n",
       "      <td>Middle Back</td>\n",
       "      <td>Machine</td>\n",
       "      <td>Intermediate</td>\n",
       "      <td>6.039267</td>\n",
       "    </tr>\n",
       "    <tr>\n",
       "      <th>414</th>\n",
       "      <td>415</td>\n",
       "      <td>Stair climber</td>\n",
       "      <td>The stair climber is a popular cardio machine ...</td>\n",
       "      <td>Cardio</td>\n",
       "      <td>Quadriceps</td>\n",
       "      <td>Machine</td>\n",
       "      <td>Intermediate</td>\n",
       "      <td>6.039267</td>\n",
       "    </tr>\n",
       "    <tr>\n",
       "      <th>416</th>\n",
       "      <td>417</td>\n",
       "      <td>Elliptical trainer</td>\n",
       "      <td>The elliptical trainer is a popular machine fo...</td>\n",
       "      <td>Cardio</td>\n",
       "      <td>Quadriceps</td>\n",
       "      <td>Machine</td>\n",
       "      <td>Intermediate</td>\n",
       "      <td>6.039267</td>\n",
       "    </tr>\n",
       "    <tr>\n",
       "      <th>418</th>\n",
       "      <td>419</td>\n",
       "      <td>Stairmaster</td>\n",
       "      <td>The stair climber is a popular cardio machine ...</td>\n",
       "      <td>Cardio</td>\n",
       "      <td>Quadriceps</td>\n",
       "      <td>Machine</td>\n",
       "      <td>Intermediate</td>\n",
       "      <td>6.039267</td>\n",
       "    </tr>\n",
       "    <tr>\n",
       "      <th>421</th>\n",
       "      <td>422</td>\n",
       "      <td>Treadmill running</td>\n",
       "      <td>Treadmill running is a popular cardiovascular ...</td>\n",
       "      <td>Cardio</td>\n",
       "      <td>Quadriceps</td>\n",
       "      <td>Machine</td>\n",
       "      <td>Intermediate</td>\n",
       "      <td>6.039267</td>\n",
       "    </tr>\n",
       "  </tbody>\n",
       "</table>\n",
       "</div>"
      ],
      "text/plain": [
       "      id               Title  \\\n",
       "333  334               Rower   \n",
       "414  415       Stair climber   \n",
       "416  417  Elliptical trainer   \n",
       "418  419         Stairmaster   \n",
       "421  422   Treadmill running   \n",
       "\n",
       "                                                  Desc    Type     BodyPart  \\\n",
       "333  The rower is a popular gym machine that is ser...  Cardio  Middle Back   \n",
       "414  The stair climber is a popular cardio machine ...  Cardio   Quadriceps   \n",
       "416  The elliptical trainer is a popular machine fo...  Cardio   Quadriceps   \n",
       "418  The stair climber is a popular cardio machine ...  Cardio   Quadriceps   \n",
       "421  Treadmill running is a popular cardiovascular ...  Cardio   Quadriceps   \n",
       "\n",
       "    Equipment         Level    Rating  \n",
       "333   Machine  Intermediate  6.039267  \n",
       "414   Machine  Intermediate  6.039267  \n",
       "416   Machine  Intermediate  6.039267  \n",
       "418   Machine  Intermediate  6.039267  \n",
       "421   Machine  Intermediate  6.039267  "
      ]
     },
     "execution_count": 44,
     "metadata": {},
     "output_type": "execute_result"
    }
   ],
   "source": [
    "print(len(results))\n",
    "results.head()"
   ]
  },
  {
   "cell_type": "code",
   "execution_count": null,
   "id": "53872163-f4f4-4250-849c-4ca783053afb",
   "metadata": {},
   "outputs": [],
   "source": []
  },
  {
   "cell_type": "code",
   "execution_count": 11,
   "id": "03254b25-9cc9-44fb-a338-b6c4775cb07b",
   "metadata": {},
   "outputs": [
    {
     "name": "stdout",
     "output_type": "stream",
     "text": [
      "136\n"
     ]
    },
    {
     "data": {
      "text/html": [
       "<div>\n",
       "<style scoped>\n",
       "    .dataframe tbody tr th:only-of-type {\n",
       "        vertical-align: middle;\n",
       "    }\n",
       "\n",
       "    .dataframe tbody tr th {\n",
       "        vertical-align: top;\n",
       "    }\n",
       "\n",
       "    .dataframe thead th {\n",
       "        text-align: right;\n",
       "    }\n",
       "</style>\n",
       "<table border=\"1\" class=\"dataframe\">\n",
       "  <thead>\n",
       "    <tr style=\"text-align: right;\">\n",
       "      <th></th>\n",
       "      <th>name</th>\n",
       "      <th>id</th>\n",
       "      <th>minutes</th>\n",
       "      <th>tags</th>\n",
       "      <th>n_steps</th>\n",
       "      <th>steps</th>\n",
       "      <th>description</th>\n",
       "      <th>ingredients</th>\n",
       "      <th>n_ingredients</th>\n",
       "      <th>calories</th>\n",
       "      <th>total fat (PDV)</th>\n",
       "      <th>sugar (PDV)</th>\n",
       "      <th>sodium (PDV)</th>\n",
       "      <th>protein (PDV)</th>\n",
       "      <th>saturated fat (PDV)</th>\n",
       "      <th>carbohydrates (PDV)</th>\n",
       "      <th>bayesian_avg</th>\n",
       "    </tr>\n",
       "  </thead>\n",
       "  <tbody>\n",
       "    <tr>\n",
       "      <th>86488</th>\n",
       "      <td>french toast breakfast sandwich with canadian ...</td>\n",
       "      <td>86489</td>\n",
       "      <td>15</td>\n",
       "      <td>['ham', '15-minutes-or-less', 'time-to-make', ...</td>\n",
       "      <td>7</td>\n",
       "      <td>['in a nonstick skillet scramble 2 eggs in 1 t...</td>\n",
       "      <td>ham, cheese, and eggs on french toast. i am qu...</td>\n",
       "      <td>['eggs', 'milk', 'butter', 'bread', 'deli ham'...</td>\n",
       "      <td>8</td>\n",
       "      <td>596.4</td>\n",
       "      <td>53.0</td>\n",
       "      <td>12.0</td>\n",
       "      <td>52.0</td>\n",
       "      <td>75.0</td>\n",
       "      <td>89.0</td>\n",
       "      <td>10.0</td>\n",
       "      <td>4.832253</td>\n",
       "    </tr>\n",
       "    <tr>\n",
       "      <th>215835</th>\n",
       "      <td>tortilla omelet wrap</td>\n",
       "      <td>215836</td>\n",
       "      <td>10</td>\n",
       "      <td>['15-minutes-or-less', 'time-to-make', 'course...</td>\n",
       "      <td>10</td>\n",
       "      <td>['whip eggs , half and half , salt and pepper ...</td>\n",
       "      <td>another one for the omelet lovers among us!</td>\n",
       "      <td>['eggs', 'half-and-half', 'salt and pepper', '...</td>\n",
       "      <td>10</td>\n",
       "      <td>706.6</td>\n",
       "      <td>64.0</td>\n",
       "      <td>13.0</td>\n",
       "      <td>35.0</td>\n",
       "      <td>80.0</td>\n",
       "      <td>96.0</td>\n",
       "      <td>13.0</td>\n",
       "      <td>4.738340</td>\n",
       "    </tr>\n",
       "    <tr>\n",
       "      <th>79068</th>\n",
       "      <td>egg in a hole   with smoked salmon</td>\n",
       "      <td>79069</td>\n",
       "      <td>10</td>\n",
       "      <td>['15-minutes-or-less', 'time-to-make', 'course...</td>\n",
       "      <td>5</td>\n",
       "      <td>['using a cookie cutter or shot glass , cut a ...</td>\n",
       "      <td>i love making \"egg in a hole\". this is made ev...</td>\n",
       "      <td>['country bread', 'unsalted butter', 'eggs', '...</td>\n",
       "      <td>8</td>\n",
       "      <td>488.4</td>\n",
       "      <td>39.0</td>\n",
       "      <td>10.0</td>\n",
       "      <td>42.0</td>\n",
       "      <td>51.0</td>\n",
       "      <td>64.0</td>\n",
       "      <td>13.0</td>\n",
       "      <td>4.738340</td>\n",
       "    </tr>\n",
       "    <tr>\n",
       "      <th>23761</th>\n",
       "      <td>biscuits and sage  sausage gravy</td>\n",
       "      <td>23762</td>\n",
       "      <td>15</td>\n",
       "      <td>['15-minutes-or-less', 'time-to-make', 'course...</td>\n",
       "      <td>18</td>\n",
       "      <td>['fry sausage in large skillet', 'crumble saus...</td>\n",
       "      <td>warning:you will want to lick the plate clean ...</td>\n",
       "      <td>['sausage', 'whole milk', 'heavy cream', 'flou...</td>\n",
       "      <td>7</td>\n",
       "      <td>637.6</td>\n",
       "      <td>76.0</td>\n",
       "      <td>37.0</td>\n",
       "      <td>46.0</td>\n",
       "      <td>43.0</td>\n",
       "      <td>107.0</td>\n",
       "      <td>8.0</td>\n",
       "      <td>4.738340</td>\n",
       "    </tr>\n",
       "    <tr>\n",
       "      <th>60835</th>\n",
       "      <td>cranberry ricotta pancakes</td>\n",
       "      <td>60836</td>\n",
       "      <td>10</td>\n",
       "      <td>['15-minutes-or-less', 'time-to-make', 'course...</td>\n",
       "      <td>6</td>\n",
       "      <td>['place the egg whites in a small bowl and set...</td>\n",
       "      <td>mmmmmmmm.....pancakes.</td>\n",
       "      <td>['ricotta cheese', 'dried cranberries', 'flour...</td>\n",
       "      <td>9</td>\n",
       "      <td>674.6</td>\n",
       "      <td>41.0</td>\n",
       "      <td>58.0</td>\n",
       "      <td>18.0</td>\n",
       "      <td>65.0</td>\n",
       "      <td>73.0</td>\n",
       "      <td>24.0</td>\n",
       "      <td>4.722949</td>\n",
       "    </tr>\n",
       "  </tbody>\n",
       "</table>\n",
       "</div>"
      ],
      "text/plain": [
       "                                                     name      id  minutes  \\\n",
       "86488   french toast breakfast sandwich with canadian ...   86489       15   \n",
       "215835                               tortilla omelet wrap  215836       10   \n",
       "79068                  egg in a hole   with smoked salmon   79069       10   \n",
       "23761                    biscuits and sage  sausage gravy   23762       15   \n",
       "60835                          cranberry ricotta pancakes   60836       10   \n",
       "\n",
       "                                                     tags  n_steps  \\\n",
       "86488   ['ham', '15-minutes-or-less', 'time-to-make', ...        7   \n",
       "215835  ['15-minutes-or-less', 'time-to-make', 'course...       10   \n",
       "79068   ['15-minutes-or-less', 'time-to-make', 'course...        5   \n",
       "23761   ['15-minutes-or-less', 'time-to-make', 'course...       18   \n",
       "60835   ['15-minutes-or-less', 'time-to-make', 'course...        6   \n",
       "\n",
       "                                                    steps  \\\n",
       "86488   ['in a nonstick skillet scramble 2 eggs in 1 t...   \n",
       "215835  ['whip eggs , half and half , salt and pepper ...   \n",
       "79068   ['using a cookie cutter or shot glass , cut a ...   \n",
       "23761   ['fry sausage in large skillet', 'crumble saus...   \n",
       "60835   ['place the egg whites in a small bowl and set...   \n",
       "\n",
       "                                              description  \\\n",
       "86488   ham, cheese, and eggs on french toast. i am qu...   \n",
       "215835        another one for the omelet lovers among us!   \n",
       "79068   i love making \"egg in a hole\". this is made ev...   \n",
       "23761   warning:you will want to lick the plate clean ...   \n",
       "60835                              mmmmmmmm.....pancakes.   \n",
       "\n",
       "                                              ingredients  n_ingredients  \\\n",
       "86488   ['eggs', 'milk', 'butter', 'bread', 'deli ham'...              8   \n",
       "215835  ['eggs', 'half-and-half', 'salt and pepper', '...             10   \n",
       "79068   ['country bread', 'unsalted butter', 'eggs', '...              8   \n",
       "23761   ['sausage', 'whole milk', 'heavy cream', 'flou...              7   \n",
       "60835   ['ricotta cheese', 'dried cranberries', 'flour...              9   \n",
       "\n",
       "        calories  total fat (PDV)  sugar (PDV)  sodium (PDV)  protein (PDV)  \\\n",
       "86488      596.4             53.0         12.0          52.0           75.0   \n",
       "215835     706.6             64.0         13.0          35.0           80.0   \n",
       "79068      488.4             39.0         10.0          42.0           51.0   \n",
       "23761      637.6             76.0         37.0          46.0           43.0   \n",
       "60835      674.6             41.0         58.0          18.0           65.0   \n",
       "\n",
       "        saturated fat (PDV)  carbohydrates (PDV)  bayesian_avg  \n",
       "86488                  89.0                 10.0      4.832253  \n",
       "215835                 96.0                 13.0      4.738340  \n",
       "79068                  64.0                 13.0      4.738340  \n",
       "23761                 107.0                  8.0      4.738340  \n",
       "60835                  73.0                 24.0      4.722949  "
      ]
     },
     "execution_count": 11,
     "metadata": {},
     "output_type": "execute_result"
    }
   ],
   "source": [
    "results = getRecipesWithConfiguration(calories=600, protein=\"high\", fat=\"mid\", tags=['breakfast', '15-minutes-or-less'])\n",
    "print(len(results))\n",
    "results.head()"
   ]
  },
  {
   "cell_type": "code",
   "execution_count": 12,
   "id": "acb7c2b5-0adf-4d33-b9e2-cf247773c1b2",
   "metadata": {},
   "outputs": [
    {
     "data": {
      "text/html": [
       "<div>\n",
       "<style scoped>\n",
       "    .dataframe tbody tr th:only-of-type {\n",
       "        vertical-align: middle;\n",
       "    }\n",
       "\n",
       "    .dataframe tbody tr th {\n",
       "        vertical-align: top;\n",
       "    }\n",
       "\n",
       "    .dataframe thead th {\n",
       "        text-align: right;\n",
       "    }\n",
       "</style>\n",
       "<table border=\"1\" class=\"dataframe\">\n",
       "  <thead>\n",
       "    <tr style=\"text-align: right;\">\n",
       "      <th></th>\n",
       "      <th>user_id</th>\n",
       "      <th>id</th>\n",
       "      <th>rating</th>\n",
       "    </tr>\n",
       "  </thead>\n",
       "  <tbody>\n",
       "    <tr>\n",
       "      <th>0</th>\n",
       "      <td>1</td>\n",
       "      <td>225878</td>\n",
       "      <td>4</td>\n",
       "    </tr>\n",
       "    <tr>\n",
       "      <th>1</th>\n",
       "      <td>2</td>\n",
       "      <td>225878</td>\n",
       "      <td>5</td>\n",
       "    </tr>\n",
       "    <tr>\n",
       "      <th>2</th>\n",
       "      <td>3</td>\n",
       "      <td>71600</td>\n",
       "      <td>4</td>\n",
       "    </tr>\n",
       "    <tr>\n",
       "      <th>3</th>\n",
       "      <td>4</td>\n",
       "      <td>14907</td>\n",
       "      <td>5</td>\n",
       "    </tr>\n",
       "    <tr>\n",
       "      <th>4</th>\n",
       "      <td>5</td>\n",
       "      <td>14907</td>\n",
       "      <td>5</td>\n",
       "    </tr>\n",
       "  </tbody>\n",
       "</table>\n",
       "</div>"
      ],
      "text/plain": [
       "   user_id      id  rating\n",
       "0        1  225878       4\n",
       "1        2  225878       5\n",
       "2        3   71600       4\n",
       "3        4   14907       5\n",
       "4        5   14907       5"
      ]
     },
     "execution_count": 12,
     "metadata": {},
     "output_type": "execute_result"
    }
   ],
   "source": [
    "user_interactions.head()"
   ]
  },
  {
   "cell_type": "code",
   "execution_count": 13,
   "id": "630bf4af-25de-4e51-b5c0-302539d03c11",
   "metadata": {},
   "outputs": [
    {
     "data": {
      "text/html": [
       "<div>\n",
       "<style scoped>\n",
       "    .dataframe tbody tr th:only-of-type {\n",
       "        vertical-align: middle;\n",
       "    }\n",
       "\n",
       "    .dataframe tbody tr th {\n",
       "        vertical-align: top;\n",
       "    }\n",
       "\n",
       "    .dataframe thead th {\n",
       "        text-align: right;\n",
       "    }\n",
       "</style>\n",
       "<table border=\"1\" class=\"dataframe\">\n",
       "  <thead>\n",
       "    <tr style=\"text-align: right;\">\n",
       "      <th></th>\n",
       "      <th>user_id</th>\n",
       "      <th>id</th>\n",
       "      <th>rating</th>\n",
       "    </tr>\n",
       "  </thead>\n",
       "  <tbody>\n",
       "    <tr>\n",
       "      <th>count</th>\n",
       "      <td>966111.000000</td>\n",
       "      <td>966111.000000</td>\n",
       "      <td>966111.000000</td>\n",
       "    </tr>\n",
       "    <tr>\n",
       "      <th>mean</th>\n",
       "      <td>9391.486762</td>\n",
       "      <td>114691.657311</td>\n",
       "      <td>4.529013</td>\n",
       "    </tr>\n",
       "    <tr>\n",
       "      <th>std</th>\n",
       "      <td>13530.586557</td>\n",
       "      <td>66961.314904</td>\n",
       "      <td>1.058641</td>\n",
       "    </tr>\n",
       "    <tr>\n",
       "      <th>min</th>\n",
       "      <td>1.000000</td>\n",
       "      <td>1.000000</td>\n",
       "      <td>0.000000</td>\n",
       "    </tr>\n",
       "    <tr>\n",
       "      <th>25%</th>\n",
       "      <td>610.000000</td>\n",
       "      <td>58218.000000</td>\n",
       "      <td>4.000000</td>\n",
       "    </tr>\n",
       "    <tr>\n",
       "      <th>50%</th>\n",
       "      <td>2908.000000</td>\n",
       "      <td>114819.000000</td>\n",
       "      <td>5.000000</td>\n",
       "    </tr>\n",
       "    <tr>\n",
       "      <th>75%</th>\n",
       "      <td>12233.000000</td>\n",
       "      <td>171831.000000</td>\n",
       "      <td>5.000000</td>\n",
       "    </tr>\n",
       "    <tr>\n",
       "      <th>max</th>\n",
       "      <td>60314.000000</td>\n",
       "      <td>231635.000000</td>\n",
       "      <td>5.000000</td>\n",
       "    </tr>\n",
       "  </tbody>\n",
       "</table>\n",
       "</div>"
      ],
      "text/plain": [
       "             user_id             id         rating\n",
       "count  966111.000000  966111.000000  966111.000000\n",
       "mean     9391.486762  114691.657311       4.529013\n",
       "std     13530.586557   66961.314904       1.058641\n",
       "min         1.000000       1.000000       0.000000\n",
       "25%       610.000000   58218.000000       4.000000\n",
       "50%      2908.000000  114819.000000       5.000000\n",
       "75%     12233.000000  171831.000000       5.000000\n",
       "max     60314.000000  231635.000000       5.000000"
      ]
     },
     "execution_count": 13,
     "metadata": {},
     "output_type": "execute_result"
    }
   ],
   "source": [
    "user_interactions.describe()"
   ]
  },
  {
   "cell_type": "code",
   "execution_count": null,
   "id": "dd45ac05-c598-4d1a-bb61-8ed05069504c",
   "metadata": {},
   "outputs": [],
   "source": [
    "from flask_sqlalchemy import SQLAlchemy\n",
    "database_interactions = pd.read_sql"
   ]
  },
  {
   "cell_type": "code",
   "execution_count": 14,
   "id": "0428e961-326c-40ac-9be3-ff2aa77e1405",
   "metadata": {},
   "outputs": [],
   "source": [
    "existing_interactions = pd.read_csv(\"Data/Interactions.csv\")"
   ]
  },
  {
   "cell_type": "code",
   "execution_count": 15,
   "id": "528d9a79-c081-4598-9f68-867a0d1a58c5",
   "metadata": {},
   "outputs": [],
   "source": [
    "data = Dataset.load_from_df(existing_interactions[[\"user_id\", \"id\", \"rating\"]], Reader(rating_scale=(0, 5)))"
   ]
  },
  {
   "cell_type": "code",
   "execution_count": 16,
   "id": "c7da78ea-b9f0-4b11-9607-2d09d8da27ac",
   "metadata": {},
   "outputs": [],
   "source": [
    "existing_trainset = data.build_full_trainset()"
   ]
  },
  {
   "cell_type": "code",
   "execution_count": null,
   "id": "4e0f399e-777c-450f-b145-ff16a8eae7ff",
   "metadata": {},
   "outputs": [],
   "source": []
  },
  {
   "cell_type": "code",
   "execution_count": 17,
   "id": "4787871a-f092-41e8-a484-195e02c4dbd9",
   "metadata": {},
   "outputs": [],
   "source": [
    "interactions_reader = Reader(line_format=\"user item rating\", sep=',', rating_scale=(0, 5), skip_lines=1)\n",
    "interactions_data = Dataset.load_from_file(\"Data/Interactions.csv\", interactions_reader)"
   ]
  },
  {
   "cell_type": "code",
   "execution_count": 18,
   "id": "cd09d197-4a44-468a-804f-e456d6b6c960",
   "metadata": {},
   "outputs": [],
   "source": [
    "interactions_trainset = interactions_data.build_full_trainset()"
   ]
  },
  {
   "cell_type": "code",
   "execution_count": 33,
   "id": "6ca99e6f-f8bb-49ec-a8cd-07877096801c",
   "metadata": {},
   "outputs": [],
   "source": [
    "svd_sim_options = {\n",
    "    \"n_factors\": [20, 50, 100, 200, 500],\n",
    "    \"n_epochs\": [10, 20, 40, 100],\n",
    "    \"biased\": [True, False],\n",
    "    \"lr_all\": [0.0005, 0.005, 0.05, 0.5],\n",
    "    \"reg_all\": [0.002, 0.02, 0.2]\n",
    "}"
   ]
  },
  {
   "cell_type": "code",
   "execution_count": 35,
   "id": "981d2d4b-a204-488d-b087-dac3f3a3c02a",
   "metadata": {},
   "outputs": [],
   "source": [
    "svd_gs = GridSearchCV(SVD, svd_sim_options, measures=[\"rmse\", \"mae\"], cv=5, n_jobs=-1, joblib_verbose=1)"
   ]
  },
  {
   "cell_type": "code",
   "execution_count": 36,
   "id": "9ac9dccf-acdc-455f-8c1d-f87282ade856",
   "metadata": {},
   "outputs": [
    {
     "name": "stderr",
     "output_type": "stream",
     "text": [
      "[Parallel(n_jobs=-1)]: Using backend LokyBackend with 16 concurrent workers.\n",
      "[Parallel(n_jobs=-1)]: Done  18 tasks      | elapsed:   24.5s\n",
      "[Parallel(n_jobs=-1)]: Done 168 tasks      | elapsed:  3.3min\n",
      "[Parallel(n_jobs=-1)]: Done 418 tasks      | elapsed: 11.1min\n",
      "[Parallel(n_jobs=-1)]: Done 768 tasks      | elapsed: 21.9min\n",
      "[Parallel(n_jobs=-1)]: Done 1218 tasks      | elapsed: 42.0min\n",
      "[Parallel(n_jobs=-1)]: Done 1768 tasks      | elapsed: 76.4min\n",
      "[Parallel(n_jobs=-1)]: Done 2400 out of 2400 | elapsed: 191.8min finished\n"
     ]
    }
   ],
   "source": [
    "svd_gs.fit(interactions_data)"
   ]
  },
  {
   "cell_type": "code",
   "execution_count": 38,
   "id": "d18c0422-430d-4712-a965-7dd1dbbe300f",
   "metadata": {},
   "outputs": [
    {
     "name": "stdout",
     "output_type": "stream",
     "text": [
      "{'rmse': 1.0088828446129101, 'mae': 0.47107160727416597}\n"
     ]
    }
   ],
   "source": [
    "print(svd_gs.best_score)"
   ]
  },
  {
   "cell_type": "code",
   "execution_count": 39,
   "id": "acddf261-3052-421a-a238-c154b4e742cd",
   "metadata": {},
   "outputs": [
    {
     "name": "stdout",
     "output_type": "stream",
     "text": [
      "{'rmse': {'n_factors': 20, 'n_epochs': 20, 'biased': True, 'lr_all': 0.005, 'reg_all': 0.2}, 'mae': {'n_factors': 500, 'n_epochs': 20, 'biased': True, 'lr_all': 0.5, 'reg_all': 0.002}}\n"
     ]
    }
   ],
   "source": [
    "print(svd_gs.best_params)"
   ]
  },
  {
   "cell_type": "code",
   "execution_count": 61,
   "id": "a98e74da-d43e-4226-8ce0-273df60d9614",
   "metadata": {},
   "outputs": [
    {
     "name": "stdout",
     "output_type": "stream",
     "text": [
      "Evaluating RMSE, MAE of algorithm CoClustering on 5 split(s).\n",
      "\n",
      "                  Fold 1  Fold 2  Fold 3  Fold 4  Fold 5  Mean    Std     \n",
      "RMSE (testset)    1.1277  1.1262  1.1288  1.1315  1.1286  1.1286  0.0017  \n",
      "MAE (testset)     0.6320  0.6306  0.6296  0.6328  0.6322  0.6314  0.0012  \n",
      "Fit time          28.20   27.80   27.87   28.21   28.70   28.16   0.32    \n",
      "Test time         2.08    1.98    1.98    2.07    0.77    1.78    0.51    \n"
     ]
    },
    {
     "data": {
      "text/plain": [
       "{'test_rmse': array([1.12772181, 1.12616034, 1.12875994, 1.13152073, 1.12862757]),\n",
       " 'test_mae': array([0.63196315, 0.63060332, 0.62961786, 0.63284676, 0.63216222]),\n",
       " 'fit_time': (28.19971752166748,\n",
       "  27.797827005386353,\n",
       "  27.869712352752686,\n",
       "  28.20687246322632,\n",
       "  28.701749324798584),\n",
       " 'test_time': (2.0848894119262695,\n",
       "  1.979933500289917,\n",
       "  1.9849200248718262,\n",
       "  2.071107864379883,\n",
       "  0.770427942276001)}"
      ]
     },
     "execution_count": 61,
     "metadata": {},
     "output_type": "execute_result"
    }
   ],
   "source": [
    "cross_validate(CoClustering(), interactions_data, measures=[\"RMSE\", \"MAE\"], cv=5, verbose=True)"
   ]
  },
  {
   "cell_type": "code",
   "execution_count": 58,
   "id": "02374097-a8c8-4616-84b1-da6006178761",
   "metadata": {},
   "outputs": [
    {
     "name": "stdout",
     "output_type": "stream",
     "text": [
      "Evaluating RMSE, MAE of algorithm NMF on 5 split(s).\n",
      "\n",
      "                  Fold 1  Fold 2  Fold 3  Fold 4  Fold 5  Mean    Std     \n",
      "RMSE (testset)    1.2128  1.2100  1.2060  1.2079  1.2089  1.2091  0.0023  \n",
      "MAE (testset)     0.8190  0.8198  0.8213  0.8177  0.8195  0.8195  0.0012  \n",
      "Fit time          31.07   31.54   31.69   30.76   31.28   31.27   0.33    \n",
      "Test time         1.81    1.90    1.74    0.73    0.71    1.38    0.54    \n"
     ]
    },
    {
     "data": {
      "text/plain": [
       "{'test_rmse': array([1.21278714, 1.21002853, 1.20597892, 1.20788336, 1.20886785]),\n",
       " 'test_mae': array([0.81901635, 0.81980505, 0.82130037, 0.81768266, 0.81952913]),\n",
       " 'fit_time': (31.069397926330566,\n",
       "  31.544697523117065,\n",
       "  31.691863536834717,\n",
       "  30.758241176605225,\n",
       "  31.28497004508972),\n",
       " 'test_time': (1.80690336227417,\n",
       "  1.9009323120117188,\n",
       "  1.7432210445404053,\n",
       "  0.7293896675109863,\n",
       "  0.7133259773254395)}"
      ]
     },
     "execution_count": 58,
     "metadata": {},
     "output_type": "execute_result"
    }
   ],
   "source": [
    "cross_validate(NMF(), interactions_data, measures=[\"RMSE\", \"MAE\"], cv=5, verbose=True)"
   ]
  },
  {
   "cell_type": "code",
   "execution_count": 40,
   "id": "7226e001-aa93-4187-bbcc-1ccfee8af12c",
   "metadata": {},
   "outputs": [],
   "source": [
    "svdpp = SVDpp()"
   ]
  },
  {
   "cell_type": "code",
   "execution_count": 42,
   "id": "a336f541-0059-4539-9afe-75f68c8161eb",
   "metadata": {},
   "outputs": [
    {
     "data": {
      "text/plain": [
       "<surprise.prediction_algorithms.matrix_factorization.SVDpp at 0x29613c9bf50>"
      ]
     },
     "execution_count": 42,
     "metadata": {},
     "output_type": "execute_result"
    }
   ],
   "source": [
    "svdpp.fit(interactions_trainset)"
   ]
  },
  {
   "cell_type": "code",
   "execution_count": 45,
   "id": "82aec702-0027-4337-a99f-91a39c42c32d",
   "metadata": {},
   "outputs": [
    {
     "name": "stdout",
     "output_type": "stream",
     "text": [
      "Evaluating RMSE, MAE of algorithm SVDpp on 5 split(s).\n",
      "\n",
      "                  Fold 1  Fold 2  Fold 3  Fold 4  Fold 5  Mean    Std     \n",
      "RMSE (testset)    1.0242  1.0215  1.0203  1.0170  1.0239  1.0214  0.0026  \n",
      "MAE (testset)     0.6017  0.5998  0.6007  0.5978  0.5997  0.5999  0.0013  \n",
      "Fit time          538.21  531.07  533.73  533.60  542.21  535.76  3.96    \n",
      "Test time         63.88   62.46   63.48   62.01   61.01   62.57   1.03    \n"
     ]
    },
    {
     "data": {
      "text/plain": [
       "{'test_rmse': array([1.02420445, 1.02152263, 1.02027472, 1.01698547, 1.02386378]),\n",
       " 'test_mae': array([0.60167718, 0.59975385, 0.60069562, 0.59784337, 0.5996951 ]),\n",
       " 'fit_time': (538.2060167789459,\n",
       "  531.0698781013489,\n",
       "  533.7280797958374,\n",
       "  533.6034462451935,\n",
       "  542.2100763320923),\n",
       " 'test_time': (63.88419532775879,\n",
       "  62.46167182922363,\n",
       "  63.479918479919434,\n",
       "  62.01494216918945,\n",
       "  61.00875973701477)}"
      ]
     },
     "execution_count": 45,
     "metadata": {},
     "output_type": "execute_result"
    }
   ],
   "source": [
    "cross_validate(svdpp, interactions_data, measures=[\"RMSE\", \"MAE\"], cv=5, verbose=True)"
   ]
  },
  {
   "cell_type": "code",
   "execution_count": 48,
   "id": "b356a55d-3ecd-47e2-a95d-f932bc9e5006",
   "metadata": {},
   "outputs": [],
   "source": [
    "svd = SVD(n_factors=20, n_epochs=20, biased=True, lr_all=0.005, reg_all=0.2)"
   ]
  },
  {
   "cell_type": "code",
   "execution_count": 49,
   "id": "b95aa6f6-e1c8-4eaa-b37f-daf6e6c5b48b",
   "metadata": {},
   "outputs": [
    {
     "name": "stdout",
     "output_type": "stream",
     "text": [
      "Evaluating RMSE, MAE of algorithm SVD on 5 split(s).\n",
      "\n",
      "                  Fold 1  Fold 2  Fold 3  Fold 4  Fold 5  Mean    Std     \n",
      "RMSE (testset)    1.0111  1.0100  1.0094  1.0015  1.0139  1.0092  0.0041  \n",
      "MAE (testset)     0.6042  0.6051  0.6038  0.6016  0.6052  0.6040  0.0013  \n",
      "Fit time          6.19    6.67    6.97    6.74    6.71    6.66    0.26    \n",
      "Test time         1.49    0.86    1.57    0.86    1.53    1.26    0.33    \n"
     ]
    },
    {
     "data": {
      "text/plain": [
       "{'test_rmse': array([1.01110033, 1.00997953, 1.00937236, 1.00152769, 1.01391235]),\n",
       " 'test_mae': array([0.60421846, 0.60513131, 0.60377468, 0.60158843, 0.60522776]),\n",
       " 'fit_time': (6.1899402141571045,\n",
       "  6.674145698547363,\n",
       "  6.972915887832642,\n",
       "  6.736252546310425,\n",
       "  6.710755109786987),\n",
       " 'test_time': (1.4884147644042969,\n",
       "  0.8562014102935791,\n",
       "  1.565445899963379,\n",
       "  0.8630378246307373,\n",
       "  1.5334908962249756)}"
      ]
     },
     "execution_count": 49,
     "metadata": {},
     "output_type": "execute_result"
    }
   ],
   "source": [
    "cross_validate(svd, interactions_data, measures=[\"RMSE\", \"MAE\"], cv=5, verbose=True)"
   ]
  },
  {
   "cell_type": "code",
   "execution_count": 23,
   "id": "511e9b2d-1ba1-4985-bfec-287472849db2",
   "metadata": {},
   "outputs": [
    {
     "name": "stdout",
     "output_type": "stream",
     "text": [
      "Evaluating RMSE, MAE of algorithm SVD on 5 split(s).\n",
      "\n",
      "                  Fold 1  Fold 2  Fold 3  Fold 4  Fold 5  Mean    Std     \n",
      "RMSE (testset)    1.0313  1.0316  1.0273  1.0359  1.0326  1.0317  0.0027  \n",
      "MAE (testset)     0.6367  0.6366  0.6354  0.6388  0.6376  0.6370  0.0011  \n",
      "Fit time          0.61    0.83    0.84    0.84    0.82    0.79    0.09    \n",
      "Test time         1.46    0.78    1.52    0.78    1.50    1.21    0.35    \n"
     ]
    },
    {
     "data": {
      "text/plain": [
       "{'test_rmse': array([1.03126502, 1.03157465, 1.02731372, 1.03587843, 1.03257837]),\n",
       " 'test_mae': array([0.63669705, 0.6365708 , 0.63542586, 0.63883009, 0.63759461]),\n",
       " 'fit_time': (0.6120710372924805,\n",
       "  0.8256895542144775,\n",
       "  0.8439140319824219,\n",
       "  0.8384573459625244,\n",
       "  0.8244237899780273),\n",
       " 'test_time': (1.4608609676361084,\n",
       "  0.7804417610168457,\n",
       "  1.5245096683502197,\n",
       "  0.7763094902038574,\n",
       "  1.4980242252349854)}"
      ]
     },
     "execution_count": 23,
     "metadata": {},
     "output_type": "execute_result"
    }
   ],
   "source": [
    "cross_validate(SVD(n_factors=10, n_epochs=1, biased=True, lr_all=0.005, reg_all=0.2), interactions_data, measures=[\"RMSE\", \"MAE\"], cv=5, verbose=True)"
   ]
  },
  {
   "cell_type": "code",
   "execution_count": 25,
   "id": "43d0c7a3-327f-4130-9a92-e141d5cb5769",
   "metadata": {},
   "outputs": [
    {
     "name": "stdout",
     "output_type": "stream",
     "text": [
      "Evaluating RMSE, MAE of algorithm SVD on 5 split(s).\n",
      "\n",
      "                  Fold 1  Fold 2  Fold 3  Fold 4  Fold 5  Mean    Std     \n",
      "RMSE (testset)    1.0284  1.0302  1.0320  1.0304  1.0362  1.0314  0.0026  \n",
      "MAE (testset)     0.6362  0.6364  0.6375  0.6364  0.6387  0.6370  0.0009  \n",
      "Fit time          0.55    0.75    0.74    0.74    0.77    0.71    0.08    \n",
      "Test time         1.48    1.50    0.76    1.48    1.45    1.34    0.29    \n"
     ]
    },
    {
     "data": {
      "text/plain": [
       "{'test_rmse': array([1.02836844, 1.03018195, 1.0319786 , 1.03043578, 1.03621062]),\n",
       " 'test_mae': array([0.63623913, 0.63636127, 0.63746073, 0.63637599, 0.63866931]),\n",
       " 'fit_time': (0.550480842590332,\n",
       "  0.7548167705535889,\n",
       "  0.742328405380249,\n",
       "  0.7430908679962158,\n",
       "  0.7743268013000488),\n",
       " 'test_time': (1.4789493083953857,\n",
       "  1.5026335716247559,\n",
       "  0.7636160850524902,\n",
       "  1.4844772815704346,\n",
       "  1.4514143466949463)}"
      ]
     },
     "execution_count": 25,
     "metadata": {},
     "output_type": "execute_result"
    }
   ],
   "source": [
    "cross_validate(SVD(n_factors=1, n_epochs=1, biased=True, lr_all=0.005, reg_all=0.2), interactions_data, measures=[\"RMSE\", \"MAE\"], cv=5, verbose=True)"
   ]
  },
  {
   "cell_type": "code",
   "execution_count": null,
   "id": "8ce21020-776f-4f30-8430-63b08db85029",
   "metadata": {},
   "outputs": [],
   "source": []
  }
 ],
 "metadata": {
  "kernelspec": {
   "display_name": "Python 3 (ipykernel)",
   "language": "python",
   "name": "python3"
  },
  "language_info": {
   "codemirror_mode": {
    "name": "ipython",
    "version": 3
   },
   "file_extension": ".py",
   "mimetype": "text/x-python",
   "name": "python",
   "nbconvert_exporter": "python",
   "pygments_lexer": "ipython3",
   "version": "3.12.2"
  }
 },
 "nbformat": 4,
 "nbformat_minor": 5
}
